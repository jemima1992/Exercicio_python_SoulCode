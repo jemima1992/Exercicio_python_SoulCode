{
  "nbformat": 4,
  "nbformat_minor": 0,
  "metadata": {
    "colab": {
      "name": "Tupla/Dicionario-python.ipynb",
      "provenance": [],
      "collapsed_sections": [],
      "authorship_tag": "ABX9TyNdz8AaXc1Kd/o5VViPHQTx",
      "include_colab_link": true
    },
    "kernelspec": {
      "name": "python3",
      "display_name": "Python 3"
    },
    "language_info": {
      "name": "python"
    }
  },
  "cells": [
    {
      "cell_type": "markdown",
      "metadata": {
        "id": "view-in-github",
        "colab_type": "text"
      },
      "source": [
        "<a href=\"https://colab.research.google.com/github/jemima1992/Exercicio_python_SoulCode/blob/https%2Fgithub.com%2Fjemima1992%2Fmaster/Tupla_Dicionario_python.ipynb\" target=\"_parent\"><img src=\"https://colab.research.google.com/assets/colab-badge.svg\" alt=\"Open In Colab\"/></a>"
      ]
    },
    {
      "cell_type": "markdown",
      "metadata": {
        "id": "KJgGlwJpE3T-"
      },
      "source": [
        "tupla"
      ]
    },
    {
      "cell_type": "code",
      "metadata": {
        "colab": {
          "base_uri": "https://localhost:8080/"
        },
        "id": "zoHjIs9SErT-",
        "outputId": "76f470b1-40dd-4e0f-bfd1-920d1ff3cce9"
      },
      "source": [
        "tupla = 'a','b','c', 'd'\n",
        "tupla1 = ('a','b','c', 'd')\n",
        "print(type(tupla))\n",
        "\n",
        "tupla1 = ('a','b','c', 'd', 'e')\n",
        "print(tupla1[1])\n",
        "\n",
        "frutas =('banana','abacate','pera','uva','abacaxi')\n",
        "for palavra in frutas:\n",
        "  print(f'A fruta é: ',palavra)  "
      ],
      "execution_count": null,
      "outputs": [
        {
          "output_type": "stream",
          "text": [
            "<class 'tuple'>\n",
            "b\n",
            "A fruta é:  banana\n",
            "A fruta é:  abacate\n",
            "A fruta é:  pera\n",
            "A fruta é:  uva\n",
            "A fruta é:  abacaxi\n"
          ],
          "name": "stdout"
        }
      ]
    },
    {
      "cell_type": "markdown",
      "metadata": {
        "id": "RRkP2qQpIFXL"
      },
      "source": [
        "Dicionario"
      ]
    },
    {
      "cell_type": "code",
      "metadata": {
        "colab": {
          "base_uri": "https://localhost:8080/"
        },
        "id": "nZPZRCWSIG8G",
        "outputId": "a71045ba-811a-4432-b128-bb7efe46c8be"
      },
      "source": [
        "dicionario = {}\n",
        "\n",
        "dicionario1 = {'um': 'numero1', 'dois':'numero2','tres':'numero3'}\n",
        "del dicionario1['um']\n",
        "print(dicionario1)\n",
        "\n",
        "\n",
        "dicionario1 = {'um': 'numero1', 'dois':'numero2','tres':'numero3'}\n",
        "dicionario1['um'] = \"outra_coisa\"\n",
        "print(dicionario1)\n",
        "print(len(dicionario1))\n",
        "\n",
        "\n",
        "dicionario1 = {'um': 'numero1', 'dois':'numero2','tres':'numero3'}\n",
        "print(dicionario1.keys())\n",
        "print(dicionario1.values())\n",
        "print(dicionario1.items())\n",
        "\n",
        "\n",
        "nome = 'cArol'\n",
        "print(nome[0].upper())\n",
        "print(nome[1].lower())\n",
        "\n",
        "\n"
      ],
      "execution_count": null,
      "outputs": [
        {
          "output_type": "stream",
          "text": [
            "{'dois': 'numero2', 'tres': 'numero3'}\n",
            "{'um': 'outra_coisa', 'dois': 'numero2', 'tres': 'numero3'}\n",
            "3\n",
            "dict_keys(['um', 'dois', 'tres'])\n",
            "dict_values(['numero1', 'numero2', 'numero3'])\n",
            "dict_items([('um', 'numero1'), ('dois', 'numero2'), ('tres', 'numero3')])\n",
            "C\n",
            "a\n"
          ],
          "name": "stdout"
        }
      ]
    },
    {
      "cell_type": "markdown",
      "metadata": {
        "id": "ee5ZQsttRJQH"
      },
      "source": [
        "Exercício Contando vogais em Tupla.Crie um programa que tenha uma tupla com várias palavras (não usar acentos).Depois disso, você deve mostrar, para cada palavra, quais são as suas vogais"
      ]
    },
    {
      "cell_type": "code",
      "metadata": {
        "colab": {
          "base_uri": "https://localhost:8080/"
        },
        "id": "dmIfmsb3RKi0",
        "outputId": "3a0b0a5a-7e6a-41e3-caa7-e6ba60903ee5"
      },
      "source": [
        "casa = ('mesa', 'cadeira', 'geladeira', 'abajur', 'sofa')\n",
        "\n",
        "for palavra in casa:\n",
        "    print(f'{palavra} ')\n",
        "    for letra in palavra:\n",
        "        if letra.lower() in 'aeiou':\n",
        "            print(letra, end=' ')\n",
        "    print('\\n')"
      ],
      "execution_count": null,
      "outputs": [
        {
          "output_type": "stream",
          "text": [
            "mesa \n",
            "e a \n",
            "\n",
            "cadeira \n",
            "a e i a \n",
            "\n",
            "geladeira \n",
            "e a e i a \n",
            "\n",
            "abajur \n",
            "a a u \n",
            "\n",
            "sofa \n",
            "o a \n",
            "\n"
          ],
          "name": "stdout"
        }
      ]
    },
    {
      "cell_type": "markdown",
      "metadata": {
        "id": "HM4CmAJdRLDX"
      },
      "source": [
        "Faça um programa que leia nome e média de um aluno, guardando também a situção \n",
        "em um dicionário. No final,mostre o conteúdo da estrutura na tela"
      ]
    },
    {
      "cell_type": "code",
      "metadata": {
        "colab": {
          "base_uri": "https://localhost:8080/"
        },
        "id": "D7b_Vbz7RLcs",
        "outputId": "2b08aa6c-2828-4da0-fa15-75d73dbe2030"
      },
      "source": [
        "aluno = {}\n",
        "aluno['nome'] = str(input('Digite o nome:'))\n",
        "aluno['média'] = float(input(f\"Digite a média: \"))\n",
        "if aluno['média'] >= 6:\n",
        "  aluno['situação'] = 'Aprovado'\n",
        "else:\n",
        "  aluno['situação'] = 'Reprovado'\n",
        "\n",
        "print(aluno)\n",
        " \n"
      ],
      "execution_count": null,
      "outputs": [
        {
          "output_type": "stream",
          "text": [
            "Digite o nome:jemia\n",
            "Digite a média: 8\n",
            "{'nome': 'jemia', 'média': 8.0, 'situação': 'Aprovado'}\n"
          ],
          "name": "stdout"
        }
      ]
    },
    {
      "cell_type": "markdown",
      "metadata": {
        "id": "mnIUkYljnnv5"
      },
      "source": [
        " 6) Faça um Programa que peça as quatro notas de 10 alunos, calcule e armazene numa lista a média de cada aluno, imprima o número de alunos com média maior ou igual a 7.0."
      ]
    },
    {
      "cell_type": "code",
      "metadata": {
        "colab": {
          "base_uri": "https://localhost:8080/"
        },
        "id": "TT545O96noGp",
        "outputId": "95f72028-9641-436d-9a4d-998dc9fd44f9"
      },
      "source": [
        "medias = []\n",
        "alunos_maior = 0\n",
        "\n",
        "for aluno in range(10):\n",
        "  soma_notas = 0\n",
        "\n",
        "  for nota in range(4):\n",
        "    print(\"Digite a \"+ str(nota+1), \"° nota do \" + str(aluno +1) + \"° aluno \", sep=\"\")8\n",
        "    \n",
        "    soma_notas += float(input())\n",
        "\n",
        "  medias.append(soma_notas/4)  \n",
        "\n",
        "  if medias[aluno] > 7.0:\n",
        "      alunos_maior += 1\n",
        "\n",
        "print(\"Médias dos alunos:\", medias)\n",
        "print(\"Número de aluns acima da média\", alunos_maior)"
      ],
      "execution_count": null,
      "outputs": [
        {
          "output_type": "stream",
          "text": [
            "Digite a 1° nota do 1° aluno \n",
            "5\n",
            "Digite a 2° nota do 1° aluno \n",
            "8\n",
            "Digite a 3° nota do 1° aluno \n",
            "9\n",
            "Digite a 4° nota do 1° aluno \n",
            "4\n",
            "Digite a 1° nota do 2° aluno \n",
            "3\n",
            "Digite a 2° nota do 2° aluno \n",
            "4\n",
            "Digite a 3° nota do 2° aluno \n",
            "5\n",
            "Digite a 4° nota do 2° aluno \n",
            "8\n",
            "Digite a 1° nota do 3° aluno \n",
            "2\n",
            "Digite a 2° nota do 3° aluno \n",
            "7\n",
            "Digite a 3° nota do 3° aluno \n",
            "2\n",
            "Digite a 4° nota do 3° aluno \n",
            "4\n",
            "Digite a 1° nota do 4° aluno \n",
            "8\n",
            "Digite a 2° nota do 4° aluno \n",
            "8\n",
            "Digite a 3° nota do 4° aluno \n",
            "2\n",
            "Digite a 4° nota do 4° aluno \n",
            "3\n",
            "Digite a 1° nota do 5° aluno \n",
            "8\n",
            "Digite a 2° nota do 5° aluno \n",
            "9\n",
            "Digite a 3° nota do 5° aluno \n",
            "6\n",
            "Digite a 4° nota do 5° aluno \n",
            "3\n",
            "Digite a 1° nota do 6° aluno \n",
            "8\n",
            "Digite a 2° nota do 6° aluno \n",
            "3\n",
            "Digite a 3° nota do 6° aluno \n",
            "7\n",
            "Digite a 4° nota do 6° aluno \n",
            "8\n",
            "Digite a 1° nota do 7° aluno \n",
            "2\n",
            "Digite a 2° nota do 7° aluno \n",
            "9\n",
            "Digite a 3° nota do 7° aluno \n",
            "8\n",
            "Digite a 4° nota do 7° aluno \n",
            "7\n",
            "Digite a 1° nota do 8° aluno \n",
            "6\n",
            "Digite a 2° nota do 8° aluno \n",
            "6\n",
            "Digite a 3° nota do 8° aluno \n",
            "8\n",
            "Digite a 4° nota do 8° aluno \n",
            "9\n",
            "Digite a 1° nota do 9° aluno \n",
            "7\n",
            "Digite a 2° nota do 9° aluno \n",
            "8\n",
            "Digite a 3° nota do 9° aluno \n",
            "3\n",
            "Digite a 4° nota do 9° aluno \n",
            "8\n",
            "Digite a 1° nota do 10° aluno \n",
            "10\n",
            "Digite a 2° nota do 10° aluno \n",
            "18\n",
            "Digite a 3° nota do 10° aluno \n",
            "2\n",
            "Digite a 4° nota do 10° aluno \n",
            "3\n",
            "Médias dos alunos: [6.5, 5.0, 3.75, 5.25, 6.5, 6.5, 6.5, 7.25, 6.5, 8.25]\n",
            "Número de aluns acima da média 2\n"
          ],
          "name": "stdout"
        }
      ]
    },
    {
      "cell_type": "markdown",
      "metadata": {
        "id": "EmudmwLknofx"
      },
      "source": [
        "8) Faça um programa que receba a temperatura média de cada mês do ano e armazene-as em uma lista. Após isto, calcule a média anual das temperaturas e mostre todas as temperaturas acima da média anual, e em que mês elas ocorreram \n",
        "(mostrar o mês por extenso: 1 – Janeiro, 2 – Fevereiro, #. . . )."
      ]
    },
    {
      "cell_type": "code",
      "metadata": {
        "colab": {
          "base_uri": "https://localhost:8080/"
        },
        "id": "4s836taFnore",
        "outputId": "db56ce5c-b400-4e6d-fc67-649ec993d7ae"
      },
      "source": [
        "meses = [\"Janeiro\", \"Fevereiro\", \"Março\", \"Abril\", \"Maio\", \"Junho\", \"Julho\", \"Agosto\", \"Setembro\", \"Outubro\", \"Novembro\", \"Dezembro\"]\n",
        "temperatura = []\n",
        "media = 0\n",
        "acimaMedia = {}\n",
        "\n",
        "for i in range(len(meses)):\n",
        "  temperatura.append(float(input(\"Informe a temperatura do mes: \" +meses[i])))\n",
        "  media+=temperatura[i]\n",
        "media = media/len(meses)\n",
        "\n",
        "for i in range(len(meses)):\n",
        "  if(temperatura[i] > media):\n",
        "    acimaMedia[meses[i]] = temperatura[i]\n",
        "\n",
        "print(\"Media das temperaturas: Anual \" +str(media))\n",
        "print(\"Meses com temperaturas acima da media: \" +str(acimaMedia) +\" :\")   "
      ],
      "execution_count": null,
      "outputs": [
        {
          "output_type": "stream",
          "text": [
            "Informe a temperatura do mes: Janeiro20\n",
            "Informe a temperatura do mes: Fevereiro30\n",
            "Informe a temperatura do mes: Março50\n",
            "Informe a temperatura do mes: Abril40\n",
            "Informe a temperatura do mes: Maio13\n",
            "Informe a temperatura do mes: Junho520\n",
            "Informe a temperatura do mes: Julho23\n",
            "Informe a temperatura do mes: Agosto23\n",
            "Informe a temperatura do mes: Setembro21\n",
            "Informe a temperatura do mes: Outubro23\n",
            "Informe a temperatura do mes: Novembro22\n",
            "Informe a temperatura do mes: Dezembro40\n",
            "Media das temperaturas: Anual 68.75\n",
            "Meses com temperaturas acima da media: {'Junho': 520.0} :\n"
          ],
          "name": "stdout"
        }
      ]
    },
    {
      "cell_type": "markdown",
      "metadata": {
        "id": "i2TVQY95no5z"
      },
      "source": [
        "Exercício Maior e menor valores em Tupla\n",
        "\n",
        "Crie um programa que vai gerar cinco números aleatórios e colocar em uma tupla.\n",
        "Depois disso, mostre a listagem de números gerados e também indique o menor e o maior valor que estão na tupla"
      ]
    },
    {
      "cell_type": "code",
      "metadata": {
        "id": "yIENJ21inpEF",
        "colab": {
          "base_uri": "https://localhost:8080/"
        },
        "outputId": "7fcefeeb-171b-4bbc-bd43-3aa8df7eec96"
      },
      "source": [
        "from random import randint\n",
        "\n",
        "num = (randint(1,10),randint(1,10),randint(1,10),randint(1,10),randint(1,10))\n",
        "for i in num:\n",
        "    print(i, end=' ')\n",
        "print(f'''\n",
        "Maior valor sorteado: {max(num)}\n",
        "Menor valor sorteado: {min(num)}.''')\n"
      ],
      "execution_count": null,
      "outputs": [
        {
          "output_type": "stream",
          "text": [
            "9 1 3 9 9 \n",
            "Maior valor sorteado: 9\n",
            "Menor valor sorteado: 1.\n"
          ],
          "name": "stdout"
        }
      ]
    },
    {
      "cell_type": "markdown",
      "metadata": {
        "id": "rf9wYffxn9cd"
      },
      "source": [
        "Faça um programa que verifique se um inteiro digitado pelo usuário está presente dentro de um dicionário. \n",
        "Crie o dicionário no próprio programa"
      ]
    },
    {
      "cell_type": "code",
      "metadata": {
        "id": "To8-603Jn9oe",
        "colab": {
          "base_uri": "https://localhost:8080/"
        },
        "outputId": "cb45c05f-838d-43a3-9548-1337d5cb8097"
      },
      "source": [
        "\n",
        "valores = {'Numero1': 10,'Numero2': 12,'Numero3': 9, 'Numero4': 8 }\n",
        "numero = int(input(\"Digite uma número: \"))\n",
        "if numero in valores.values():\n",
        "    print(\"O número está no dicionário\")\n",
        "else:\n",
        "    print(\"O número não no dicionário\")\n",
        "\n",
        "for k, v in valores.items():\n",
        "    print(f\"{k} = {v}, \", end='')  \n",
        "\n",
        "\n",
        "   \n",
        "\n",
        " "
      ],
      "execution_count": null,
      "outputs": [
        {
          "output_type": "stream",
          "text": [
            "Digite uma número: 5\n",
            "O número não no dicionário\n",
            "Numero1 = 10, Numero2 = 12, Numero3 = 9, Numero4 = 8, "
          ],
          "name": "stdout"
        }
      ]
    }
  ]
}