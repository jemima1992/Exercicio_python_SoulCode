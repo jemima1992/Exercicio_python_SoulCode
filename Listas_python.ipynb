{
  "nbformat": 4,
  "nbformat_minor": 0,
  "metadata": {
    "colab": {
      "name": " Listas- python",
      "provenance": [],
      "collapsed_sections": [],
      "include_colab_link": true
    },
    "kernelspec": {
      "display_name": "Python 3",
      "name": "python3"
    }
  },
  "cells": [
    {
      "cell_type": "markdown",
      "metadata": {
        "id": "view-in-github",
        "colab_type": "text"
      },
      "source": [
        "<a href=\"https://colab.research.google.com/github/jemima1992/Exercicio_python_SoulCode/blob/https%2Fgithub.com%2Fjemima1992%2FPanda-COVID-19/Listas_python.ipynb\" target=\"_parent\"><img src=\"https://colab.research.google.com/assets/colab-badge.svg\" alt=\"Open In Colab\"/></a>"
      ]
    },
    {
      "cell_type": "code",
      "metadata": {
        "id": "NgPlxxQ6I5mP",
        "colab": {
          "base_uri": "https://localhost:8080/"
        },
        "outputId": "5a88faa7-ccf9-40eb-9e88-5a85ea82d9af"
      },
      "source": [
        "lista1 = []\n",
        "\n",
        "lista2 = [1, 2, 3, 4]\n",
        "\n",
        "lista4 = [1, 'casa', [2,3], 6.5]\n",
        "\n",
        "list(range(1,5))\n",
        "\n",
        "list(range(10))\n",
        "\n",
        "\n",
        "\n",
        "lista3 = ['casa', 'carro', 'bicicleta',12, 89, 9.5, [3,5,4]]\n",
        "print(lista3[-7])\n",
        "\n",
        "\n",
        "\n",
        "cavaleiro = ['guerra','fome','luta','castelo']\n",
        "\n",
        "i = 0\n",
        "\n",
        "while i < len(cavaleiro):\n",
        "  print(cavaleiro[i])\n",
        "  i = i+1\n",
        "\n",
        "len(cavaleiro)\n",
        "\n",
        "\n",
        "\n",
        "cavaleiro2 = ['guerra','fome','luta','castelo']\n",
        "\n",
        "if (('castelo' in cavaleiro2)== True):\n",
        "  print(\"Permitido!\")\n",
        "else:\n",
        "  print(\"Não permitido!\")  \n",
        "\n",
        "\n",
        "a = [1,2,3]\n",
        "b = [4,5,6]\n",
        "c = [a+b]*4\n",
        "print(c)\n"
      ],
      "execution_count": null,
      "outputs": [
        {
          "output_type": "stream",
          "text": [
            "casa\n",
            "guerra\n",
            "fome\n",
            "luta\n",
            "castelo\n",
            "Permitido!\n",
            "[[1, 2, 3, 4, 5, 6], [1, 2, 3, 4, 5, 6], [1, 2, 3, 4, 5, 6], [1, 2, 3, 4, 5, 6]]\n"
          ],
          "name": "stdout"
        }
      ]
    },
    {
      "cell_type": "markdown",
      "metadata": {
        "id": "wlOSg8jXPvNt"
      },
      "source": [
        "Estrutura da lista \n",
        "https://docs.python.org/3/tutorial/datastructures.html"
      ]
    },
    {
      "cell_type": "code",
      "metadata": {
        "id": "swIJKf3MT2a9",
        "colab": {
          "base_uri": "https://localhost:8080/"
        },
        "outputId": "1c1bede6-170b-4af1-930d-eba4e70eb6c0"
      },
      "source": [
        "\n",
        "lista = [2]\n",
        "lista.append(\"Jose\")\n",
        "print(lista)\n",
        "\n",
        "\n",
        "\n",
        "\n",
        "lista = [2]\n",
        "lista.extend([6,7,4])\n",
        "print(lista)\n",
        "\n",
        "\n",
        "\n",
        "lista = [2,\"Jose\", 5.8]\n",
        "lista.insert(1, \"Endereço\")\n",
        "print(lista)\n",
        "\n",
        "\n",
        "lista = [2,\"Jose\", 5.8]\n",
        "lista.remove(2)\n",
        "print(lista)\n",
        "\n",
        "\n",
        "\n",
        "lista = [2,\"Jose\", 5.8]\n",
        "lista.pop()\n",
        "print(lista)\n",
        "\n",
        "\n",
        "\n",
        "lista = [2,\"Jose\", 5.8]\n",
        "lista.clear()\n",
        "print(lista)\n",
        "\n",
        "\n",
        "lista = [5,8,-1,58,12,6]\n",
        "lista.sort()\n",
        "print(lista)\n",
        "\n",
        "\n",
        "lista = [2,\"Jose\", 5.8]\n",
        "lista.index(\"Jose\",0)\n",
        "print(lista)\n",
        "\n",
        "\n",
        "lista = [2,\"Jose\", 5.8]\n",
        "lista.count(1)\n",
        "\n"
      ],
      "execution_count": null,
      "outputs": [
        {
          "output_type": "stream",
          "text": [
            "[2, 'Jose']\n",
            "[2, 6, 7, 4]\n",
            "[2, 'Endereço', 'Jose', 5.8]\n",
            "['Jose', 5.8]\n",
            "[2, 'Jose']\n",
            "[]\n",
            "[-1, 5, 6, 8, 12, 58]\n",
            "[2, 'Jose', 5.8]\n"
          ],
          "name": "stdout"
        },
        {
          "output_type": "execute_result",
          "data": {
            "text/plain": [
              "0"
            ]
          },
          "metadata": {},
          "execution_count": 47
        }
      ]
    },
    {
      "cell_type": "markdown",
      "metadata": {
        "id": "JHn1EHEHZud6"
      },
      "source": [
        "1) Faça um Programa que leia uma lista de 5 números inteiros e mostre-os.\n"
      ]
    },
    {
      "cell_type": "code",
      "metadata": {
        "id": "7U9X1wTpZ4kh",
        "colab": {
          "base_uri": "https://localhost:8080/"
        },
        "outputId": "1aef6665-fd59-4ae8-ab07-246e45bbb1b8"
      },
      "source": [
        "numeros = []\n",
        "\n",
        "print ('Informe 5 numeros inteiros ')\n",
        "\n",
        "i = 0\n",
        "while i < 5:\n",
        "    numeros.append(int(input('Digite o numero '+ str(i+1) + ':\\n')))\n",
        "    print(numeros)\n",
        "    i = i + 1\n"
      ],
      "execution_count": 2,
      "outputs": [
        {
          "output_type": "stream",
          "text": [
            "Informe 5 numeros inteiros \n",
            "Digite o numero 1:\n",
            "8\n",
            "[8]\n",
            "Digite o numero 2:\n",
            "9\n",
            "[8, 9]\n",
            "Digite o numero 3:\n",
            "6\n",
            "[8, 9, 6]\n",
            "Digite o numero 4:\n",
            "3\n",
            "[8, 9, 6, 3]\n",
            "Digite o numero 5:\n",
            "5\n",
            "[8, 9, 6, 3, 5]\n"
          ],
          "name": "stdout"
        }
      ]
    },
    {
      "cell_type": "markdown",
      "metadata": {
        "id": "CQSiUMHEf4F2"
      },
      "source": [
        " 2) Faça um Programa que leia uma lista de 10 números reais e mostre-os na ordem inversa. \n",
        " "
      ]
    },
    {
      "cell_type": "code",
      "metadata": {
        "id": "rYJtpsJwf8C9",
        "colab": {
          "base_uri": "https://localhost:8080/"
        },
        "outputId": "eb9f4165-bf4c-47e3-86c2-f24cda05ad06"
      },
      "source": [
        "\n",
        "numeros = [] \n",
        "\n",
        "print ('Informe 10 numeros ')\n",
        "\n",
        "for i in range(10):\n",
        "  numeros.append(float(input('Digite o numero ' + str(i+1) + ':')))\n",
        "\n",
        "numeros.reverse()\n",
        "\n",
        "print(numeros) "
      ],
      "execution_count": 3,
      "outputs": [
        {
          "output_type": "stream",
          "text": [
            "Informe 10 numeros \n",
            "Digite o numero 1:8\n",
            "Digite o numero 2:8\n",
            "Digite o numero 3:9\n",
            "Digite o numero 4:8\n",
            "Digite o numero 5:2\n",
            "Digite o numero 6:1\n",
            "Digite o numero 7:0\n",
            "Digite o numero 8:4\n",
            "Digite o numero 9:6\n",
            "Digite o numero 10:3\n",
            "[3.0, 6.0, 4.0, 0.0, 1.0, 2.0, 8.0, 9.0, 8.0, 8.0]\n"
          ],
          "name": "stdout"
        }
      ]
    },
    {
      "cell_type": "markdown",
      "metadata": {
        "id": "LDDzyUwKh-AV"
      },
      "source": [
        "3) Faça um Programa que leia 4 notas, mostre as notas e a média na tela."
      ]
    },
    {
      "cell_type": "code",
      "metadata": {
        "id": "p6N9BzhkiInd",
        "colab": {
          "base_uri": "https://localhost:8080/"
        },
        "outputId": "0d8dcf50-c88e-405d-e9c1-6ee9c9500740"
      },
      "source": [
        "notas = []\n",
        "media = 0\n",
        "for i in range(4):\n",
        "  notas.append(float(input('Digite a nota ' + str(i+1) + ': ')))\n",
        "  media += notas[i]\n",
        "media = media/4\n",
        "print (notas)\n",
        "print (media)"
      ],
      "execution_count": null,
      "outputs": [
        {
          "output_type": "stream",
          "text": [
            "Digite a nota 1: 5\n",
            "Digite a nota 2: 8\n",
            "Digite a nota 3: 9\n",
            "Digite a nota 4: 6\n",
            "[5.0, 8.0, 9.0, 6.0]\n",
            "7.0\n"
          ],
          "name": "stdout"
        }
      ]
    },
    {
      "cell_type": "markdown",
      "metadata": {
        "id": "7VosERsglbCd"
      },
      "source": [
        "4) Faça um Programa que leia 20 números inteiros e armazene-os numa lista. Armazene os números pares na listar PAR e os números IMPARES na lista ímpar. Imprima os três vetores.\n"
      ]
    },
    {
      "cell_type": "code",
      "metadata": {
        "id": "XTm3wry-lfij",
        "colab": {
          "base_uri": "https://localhost:8080/"
        },
        "outputId": "b961b27c-743c-43b8-9ccf-9d557017dfdf"
      },
      "source": [
        "vetor = []\n",
        "PAR = []\n",
        "IMPAR = []\n",
        "\n",
        "for numero in range(0, 4):\n",
        "    vetor.append(int(input(\"Digite um numero: \")))\n",
        "\n",
        "    if vetor[numero] % 2 == 0:\n",
        "        PAR.append(vetor[numero])\n",
        "    else:\n",
        "        IMPAR.append(vetor[numero])\n",
        "\n",
        "print(\"Vetor com 20 elementos: \" + str(vetor))\n",
        "print(\"Vetor com elementos pares: \" + str(PAR))\n",
        "print(\"Vetor com elementos Impares: \" + str(IMPAR))"
      ],
      "execution_count": 4,
      "outputs": [
        {
          "output_type": "stream",
          "text": [
            "Digite um numero: 5\n",
            "Digite um numero: 5\n",
            "Digite um numero: 2\n",
            "Digite um numero: 1\n",
            "Vetor com 20 elementos: [5, 5, 2, 1]\n",
            "Vetor com elementos pares: [2]\n",
            "Vetor com elementos Impares: [5, 5, 1]\n"
          ],
          "name": "stdout"
        }
      ]
    }
  ]
}