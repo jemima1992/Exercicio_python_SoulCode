{
  "nbformat": 4,
  "nbformat_minor": 0,
  "metadata": {
    "colab": {
      "name": "While,For",
      "provenance": [],
      "collapsed_sections": [],
      "include_colab_link": true
    },
    "kernelspec": {
      "display_name": "Python 3",
      "name": "python3"
    }
  },
  "cells": [
    {
      "cell_type": "markdown",
      "metadata": {
        "id": "view-in-github",
        "colab_type": "text"
      },
      "source": [
        "<a href=\"https://colab.research.google.com/github/jemima1992/Exercicio_python_SoulCode/blob/https%2Fgithub.com%2Fjemima1992%2FPanda-COVID-19/While%2CFor.ipynb\" target=\"_parent\"><img src=\"https://colab.research.google.com/assets/colab-badge.svg\" alt=\"Open In Colab\"/></a>"
      ]
    },
    {
      "cell_type": "markdown",
      "metadata": {
        "id": "Tuh8HzxJjtpq"
      },
      "source": [
        "1) Faça um programa que imprima na tela os números de 20 a 50 em ordem crescente\n"
      ]
    },
    {
      "cell_type": "code",
      "metadata": {
        "id": "pLlBkp9mjybP",
        "colab": {
          "base_uri": "https://localhost:8080/"
        },
        "outputId": "e8a5124e-f2f3-49ff-c8c3-cd2994afa19c"
      },
      "source": [
        "contador = 20\n",
        "while (contador < 50):\n",
        "      print(contador)\n",
        "      contador += 1\n",
        "else:\n",
        "      print(contador)"
      ],
      "execution_count": null,
      "outputs": [
        {
          "output_type": "stream",
          "text": [
            "20\n",
            "21\n",
            "22\n",
            "23\n",
            "24\n",
            "25\n",
            "26\n",
            "27\n",
            "28\n",
            "29\n",
            "30\n",
            "31\n",
            "32\n",
            "33\n",
            "34\n",
            "35\n",
            "36\n",
            "37\n",
            "38\n",
            "39\n",
            "40\n",
            "41\n",
            "42\n",
            "43\n",
            "44\n",
            "45\n",
            "46\n",
            "47\n",
            "48\n",
            "49\n",
            "50\n"
          ],
          "name": "stdout"
        }
      ]
    },
    {
      "cell_type": "markdown",
      "metadata": {
        "id": "b2MTrj2cky4m"
      },
      "source": [
        "\n",
        "\n",
        "2) Faça um algoritmo que imprima na tela os números de 200 a 100 em ordem decrescente\n"
      ]
    },
    {
      "cell_type": "code",
      "metadata": {
        "id": "giFyN97Ik2xz",
        "colab": {
          "base_uri": "https://localhost:8080/"
        },
        "outputId": "81795cd5-c431-40c2-e56d-57dd522af2ec"
      },
      "source": [
        "contador = 200\n",
        "while (contador > 100):\n",
        "      print(contador)\n",
        "      contador-= 1\n",
        "else:\n",
        "      print(contador)"
      ],
      "execution_count": null,
      "outputs": [
        {
          "output_type": "stream",
          "text": [
            "200\n",
            "199\n",
            "198\n",
            "197\n",
            "196\n",
            "195\n",
            "194\n",
            "193\n",
            "192\n",
            "191\n",
            "190\n",
            "189\n",
            "188\n",
            "187\n",
            "186\n",
            "185\n",
            "184\n",
            "183\n",
            "182\n",
            "181\n",
            "180\n",
            "179\n",
            "178\n",
            "177\n",
            "176\n",
            "175\n",
            "174\n",
            "173\n",
            "172\n",
            "171\n",
            "170\n",
            "169\n",
            "168\n",
            "167\n",
            "166\n",
            "165\n",
            "164\n",
            "163\n",
            "162\n",
            "161\n",
            "160\n",
            "159\n",
            "158\n",
            "157\n",
            "156\n",
            "155\n",
            "154\n",
            "153\n",
            "152\n",
            "151\n",
            "150\n",
            "149\n",
            "148\n",
            "147\n",
            "146\n",
            "145\n",
            "144\n",
            "143\n",
            "142\n",
            "141\n",
            "140\n",
            "139\n",
            "138\n",
            "137\n",
            "136\n",
            "135\n",
            "134\n",
            "133\n",
            "132\n",
            "131\n",
            "130\n",
            "129\n",
            "128\n",
            "127\n",
            "126\n",
            "125\n",
            "124\n",
            "123\n",
            "122\n",
            "121\n",
            "120\n",
            "119\n",
            "118\n",
            "117\n",
            "116\n",
            "115\n",
            "114\n",
            "113\n",
            "112\n",
            "111\n",
            "110\n",
            "109\n",
            "108\n",
            "107\n",
            "106\n",
            "105\n",
            "104\n",
            "103\n",
            "102\n",
            "101\n",
            "100\n"
          ],
          "name": "stdout"
        }
      ]
    },
    {
      "cell_type": "markdown",
      "metadata": {
        "id": "shZ9FqEWlOMh"
      },
      "source": [
        "\n",
        "3) Faça um algoritmo que imprima na tela os 20 primeiros números pares a partir do 2"
      ]
    },
    {
      "cell_type": "code",
      "metadata": {
        "id": "UJhYrIWjlQWU",
        "colab": {
          "base_uri": "https://localhost:8080/"
        },
        "outputId": "9feaa946-0472-4979-af44-9fa3f98a10c1"
      },
      "source": [
        "contador = 2\n",
        "while (contador < 20):\n",
        "  if contador % 2 == 0:\n",
        "    print(contador)\n",
        "  contador += 1"
      ],
      "execution_count": null,
      "outputs": [
        {
          "output_type": "stream",
          "text": [
            "2\n",
            "4\n",
            "6\n",
            "8\n",
            "10\n",
            "12\n",
            "14\n",
            "16\n",
            "18\n"
          ],
          "name": "stdout"
        }
      ]
    },
    {
      "cell_type": "code",
      "metadata": {
        "id": "baTwWoV0uGw_",
        "colab": {
          "base_uri": "https://localhost:8080/"
        },
        "outputId": "e3481e28-3665-46af-9e60-ed919a474a94"
      },
      "source": [
        "contador = 2\n",
        "while (contador < 20):\n",
        "    print(contador)\n",
        "    contador += 2"
      ],
      "execution_count": null,
      "outputs": [
        {
          "output_type": "stream",
          "text": [
            "2\n",
            "4\n",
            "6\n",
            "8\n",
            "10\n",
            "12\n",
            "14\n",
            "16\n",
            "18\n"
          ],
          "name": "stdout"
        }
      ]
    },
    {
      "cell_type": "markdown",
      "metadata": {
        "id": "c-NHqwsFw6jC"
      },
      "source": [
        "# Obrigar o usuário a digitar uma altura válida entre 40cm e 2.5m\n",
        "\n",
        "#Solicitar ao usuário que ele digite um número Natural diferente de 0"
      ]
    },
    {
      "cell_type": "code",
      "metadata": {
        "id": "coNzTKc-AiXs"
      },
      "source": [
        ""
      ],
      "execution_count": null,
      "outputs": []
    },
    {
      "cell_type": "code",
      "metadata": {
        "id": "AcNeQELkxSGU",
        "colab": {
          "base_uri": "https://localhost:8080/"
        },
        "outputId": "0b0434a6-9a46-4a8e-b90b-2e00141bfbce"
      },
      "source": [
        "altura = float(input('Digite sua altura'))\n",
        "\n",
        "while 0.4<altura>2.5:\n",
        "  print('Altura invalida digite novamente')\n",
        "  altura = float(input('Digite sua altura'))\n",
        "else:\n",
        "  print(f'A altura é {altura} valida')"
      ],
      "execution_count": null,
      "outputs": [
        {
          "output_type": "stream",
          "text": [
            "Digite sua altura8\n",
            "Altura invalida digite novamente\n",
            "Digite sua altura2\n",
            "A altura é 2.0 valida\n"
          ],
          "name": "stdout"
        }
      ]
    },
    {
      "cell_type": "code",
      "metadata": {
        "colab": {
          "base_uri": "https://localhost:8080/"
        },
        "id": "JsfPGvbOA_cX",
        "outputId": "dfcbefdc-a8f7-4fce-97bf-14d72c9adf42"
      },
      "source": [
        "numero = int(input('Digite um numero natural diferente de 0: '))\n",
        "\n",
        "while numero <= 0:\n",
        "  numero = float(input('Numero não é natural!Digite o numero novamente: '))\n",
        "else:\n",
        "  print(f'O numero é {numero} natural')"
      ],
      "execution_count": null,
      "outputs": [
        {
          "output_type": "stream",
          "text": [
            "Digite um numero natural diferente de 0: 0\n",
            "Numero não é natural!Digite o numero novamente: -5\n",
            "Numero não é natural!Digite o numero novamente: 2\n",
            "O numero é 2.0 natural\n"
          ],
          "name": "stdout"
        }
      ]
    },
    {
      "cell_type": "code",
      "metadata": {
        "id": "7D4RILvhFHls",
        "colab": {
          "base_uri": "https://localhost:8080/"
        },
        "outputId": "5f5c1017-7c47-4c4c-a394-d7721aa1c90a"
      },
      "source": [
        "for contador in range(40, -1, -1):\n",
        "  print(contador)"
      ],
      "execution_count": null,
      "outputs": [
        {
          "output_type": "stream",
          "text": [
            "40\n",
            "39\n",
            "38\n",
            "37\n",
            "36\n",
            "35\n",
            "34\n",
            "33\n",
            "32\n",
            "31\n",
            "30\n",
            "29\n",
            "28\n",
            "27\n",
            "26\n",
            "25\n",
            "24\n",
            "23\n",
            "22\n",
            "21\n",
            "20\n",
            "19\n",
            "18\n",
            "17\n",
            "16\n",
            "15\n",
            "14\n",
            "13\n",
            "12\n",
            "11\n",
            "10\n",
            "9\n",
            "8\n",
            "7\n",
            "6\n",
            "5\n",
            "4\n",
            "3\n",
            "2\n",
            "1\n",
            "0\n"
          ],
          "name": "stdout"
        }
      ]
    },
    {
      "cell_type": "markdown",
      "metadata": {
        "id": "oMy-IX80J0JE"
      },
      "source": [
        "1) Faça um programa que efetue a soma dos números de 1 a 100 e exiba o valor na tela\n",
        "\n",
        "\n"
      ]
    },
    {
      "cell_type": "code",
      "metadata": {
        "colab": {
          "base_uri": "https://localhost:8080/"
        },
        "id": "BbvPAukzJ1fU",
        "outputId": "2816efac-f259-4bdd-b9a5-1dcd3b839bfb"
      },
      "source": [
        "soma= 0\n",
        "for contador in range(1, 101):\n",
        "  soma+=contador\n",
        "\n",
        "print(soma)\n",
        "\n",
        " \n",
        "\n"
      ],
      "execution_count": 66,
      "outputs": [
        {
          "output_type": "stream",
          "text": [
            "5050\n"
          ],
          "name": "stdout"
        }
      ]
    },
    {
      "cell_type": "markdown",
      "metadata": {
        "id": "8PDUClfHPyeT"
      },
      "source": [
        "2) Faça um programa que leia a altura de 10 pessoas. Este programa deverá calcular e mostrar:\n",
        " \n",
        " a) A menor altura do grupo \n",
        " \n",
        " b) A maior altura do grupo"
      ]
    },
    {
      "cell_type": "code",
      "metadata": {
        "colab": {
          "base_uri": "https://localhost:8080/"
        },
        "id": "WIVqZN-6WKqj",
        "outputId": "42ff2fac-8c24-4909-d04f-dde67284eada"
      },
      "source": [
        "\n",
        "for contador in range(5):\n",
        "  altura = float(input(f'Digite {contador + 1} sua altura\\n'))\n",
        "  while 0<altura>2.5:\n",
        "    altura = float(input(f'Altura invalida!! Digite {contador + 1} novamente a Altura \\n'))\n",
        "  if contador == 0:\n",
        "    maior = altura\n",
        "    menor = altura\n",
        "  else:\n",
        "    if altura > maior:\n",
        "      maior = altura\n",
        "    if altura < menor:\n",
        "      menor = altura\n",
        "\n",
        "print(f'Maior altura {maior}')\n",
        "print(f'Menor altura {menor}')\n",
        " \n"
      ],
      "execution_count": 67,
      "outputs": [
        {
          "output_type": "stream",
          "text": [
            "Digite 1 sua altura\n",
            "1.2\n",
            "Digite 2 sua altura\n",
            "1.3\n",
            "Digite 3 sua altura\n",
            "1.5\n",
            "Digite 4 sua altura\n",
            "1.8\n",
            "Digite 5 sua altura\n",
            "1.9\n",
            "Maior altura 1.9\n",
            "Menor altura 1.2\n"
          ],
          "name": "stdout"
        }
      ]
    },
    {
      "cell_type": "markdown",
      "metadata": {
        "id": "zrHIeVt_aFdI"
      },
      "source": [
        "3)Faça um programa que calcule o fatorial de um número digitado pelo usuário.\n"
      ]
    },
    {
      "cell_type": "code",
      "metadata": {
        "colab": {
          "base_uri": "https://localhost:8080/"
        },
        "id": "LEtCChZcaOIv",
        "outputId": "2fcbc59c-42f0-4800-f32c-610e9d099ddd"
      },
      "source": [
        "numero = int(input(\"Fatorial de: \") )\n",
        "\n",
        "resultado=1\n",
        "for n in range(1,numero+1):\n",
        "    resultado *= n\n",
        "\n",
        "print(resultado)"
      ],
      "execution_count": null,
      "outputs": [
        {
          "output_type": "stream",
          "text": [
            "Fatorial de: 4\n",
            "24\n"
          ],
          "name": "stdout"
        }
      ]
    }
  ]
}